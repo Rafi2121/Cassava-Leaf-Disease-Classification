{
  "nbformat": 4,
  "nbformat_minor": 0,
  "metadata": {
    "colab": {
      "name": "Cassava Leaf Disease Classification.ipynb",
      "provenance": [],
      "collapsed_sections": []
    },
    "kernelspec": {
      "name": "python3",
      "display_name": "Python 3"
    },
    "accelerator": "GPU"
  },
  "cells": [
    {
      "cell_type": "markdown",
      "metadata": {
        "id": "5ncPNkea4AV8"
      },
      "source": [
        "\n",
        "# **Memanggil Libraries**\n",
        "\n"
      ]
    },
    {
      "cell_type": "code",
      "metadata": {
        "id": "mHYkVgcJ8Tvq"
      },
      "source": [
        "try:\n",
        "  # %tensorflow_version only exists in Colab.\n",
        "  %tensorflow_version 2.x\n",
        "except Exception:\n",
        "  pass"
      ],
      "execution_count": null,
      "outputs": []
    },
    {
      "cell_type": "code",
      "metadata": {
        "id": "72FoH2Rz7131"
      },
      "source": [
        "import itertools\n",
        "import os\n",
        "from __future__ import absolute_import, division, print_function, unicode_literals\n",
        "import matplotlib.pylab as plt\n",
        "import numpy as np\n",
        "from tensorflow.keras.layers import Dense, Flatten, Conv2D\n",
        "from tensorflow.keras import Model\n",
        "from tensorflow.keras.preprocessing.image import ImageDataGenerator\n",
        "from tensorflow.keras.optimizers import Adam\n",
        "from tensorflow.keras import layers\n",
        "\n",
        "import tensorflow as tf\n",
        "import tensorflow_hub as hub"
      ],
      "execution_count": null,
      "outputs": []
    },
    {
      "cell_type": "code",
      "metadata": {
        "id": "HdKo2Ri-8JBS",
        "colab": {
          "base_uri": "https://localhost:8080/",
          "height": 166
        },
        "outputId": "92da7738-106b-466c-e738-6bb0565beeda"
      },
      "source": [
        "print(\"Version: \", tf.__version__)\n",
        "print(\"Eager mode: \", tf.executing_eagerly())\n",
        "print(\"Hub version: \", hub.__version__)\n",
        "print(\"GPU is\", \"available\" if tf.test.is_gpu_available() else \"NOT AVAILABLE\")"
      ],
      "execution_count": null,
      "outputs": [
        {
          "output_type": "stream",
          "text": [
            "Version:  2.3.0\n",
            "Eager mode:  True\n",
            "Hub version:  0.9.0\n",
            "WARNING:tensorflow:From <ipython-input-3-7161f679f313>:4: is_gpu_available (from tensorflow.python.framework.test_util) is deprecated and will be removed in a future version.\n",
            "Instructions for updating:\n",
            "Use `tf.config.list_physical_devices('GPU')` instead.\n",
            "GPU is available\n"
          ],
          "name": "stdout"
        }
      ]
    },
    {
      "cell_type": "markdown",
      "metadata": {
        "id": "OQ-gPPWY4Z8N"
      },
      "source": [
        "# **Mempersiapkan Data Training, Validation, dan Test**\n",
        "\n"
      ]
    },
    {
      "cell_type": "code",
      "metadata": {
        "id": "LjNfvivs8x1s"
      },
      "source": [
        "base_dir = '/content/drive/My Drive/Cassava'\n",
        "train_dir = os.path.join(base_dir, 'train')\n",
        "validation_dir = os.path.join(base_dir, 'validation')\n",
        "test_dir = os.path.join(base_dir, 'test')"
      ],
      "execution_count": null,
      "outputs": []
    },
    {
      "cell_type": "code",
      "metadata": {
        "id": "OoIewk2_M8wJ"
      },
      "source": [
        "import time\n",
        "import os\n",
        "from os.path import exists\n",
        "\n",
        "def count(dir, counter=0):\n",
        "    \"returns number of files in dir and subdirs\"\n",
        "    for pack in os.walk(dir):\n",
        "        for f in pack[2]:\n",
        "            counter += 1\n",
        "    return dir + \" : \" + str(counter) + \"files\"\n"
      ],
      "execution_count": null,
      "outputs": []
    },
    {
      "cell_type": "code",
      "metadata": {
        "id": "S203jBRFNBsf",
        "colab": {
          "base_uri": "https://localhost:8080/",
          "height": 74
        },
        "outputId": "738f430f-089e-420d-e3a1-65cc69a97265"
      },
      "source": [
        "print('total images for training :', count(train_dir))\n",
        "print('total images for validation :', count(validation_dir))"
      ],
      "execution_count": null,
      "outputs": [
        {
          "output_type": "stream",
          "text": [
            "total images for training : /content/drive/My Drive/Cassava/train : 5657files\n",
            "total images for validation : /content/drive/My Drive/Cassava/validation : 1889files\n"
          ],
          "name": "stdout"
        }
      ]
    },
    {
      "cell_type": "code",
      "metadata": {
        "id": "JRf6xMXeQBiV",
        "colab": {
          "base_uri": "https://localhost:8080/",
          "height": 55
        },
        "outputId": "0bc41bbe-d98f-4886-aa26-6545a1e4ca1d"
      },
      "source": [
        "module_selection = (\"mobilenet_v2\", 224, 1280) #@param [\"(\\\"mobilenet_v2\\\", 224, 1280)\", \"(\\\"inception_v3\\\", 299, 2048)\"] {type:\"raw\", allow-input: true}\n",
        "handle_base, pixels, FV_SIZE = module_selection\n",
        "MODULE_HANDLE =\"https://tfhub.dev/google/tf2-preview/{}/feature_vector/4\".format(handle_base)\n",
        "IMAGE_SIZE = (pixels, pixels)\n",
        "print(\"Using {} with input size {} and output dimension {}\".format(\n",
        "  MODULE_HANDLE, IMAGE_SIZE, FV_SIZE))\n",
        "\n",
        "BATCH_SIZE = 70 #@param {type:\"integer\"}"
      ],
      "execution_count": null,
      "outputs": [
        {
          "output_type": "stream",
          "text": [
            "Using https://tfhub.dev/google/tf2-preview/mobilenet_v2/feature_vector/4 with input size (224, 224) and output dimension 1280\n"
          ],
          "name": "stdout"
        }
      ]
    },
    {
      "cell_type": "markdown",
      "metadata": {
        "id": "omARZ05x55RG"
      },
      "source": [
        "# **Preproses Data**\n",
        "\n"
      ]
    },
    {
      "cell_type": "code",
      "metadata": {
        "id": "WQd5W8IeQzP3",
        "colab": {
          "base_uri": "https://localhost:8080/",
          "height": 54
        },
        "outputId": "7a1d8890-5d43-48ae-de33-d9835f999dc8"
      },
      "source": [
        "validation_datagen = tf.keras.preprocessing.image.ImageDataGenerator(rescale=1./255,\n",
        "      # validation_split=0.20,                                                               \n",
        "      rotation_range=8,\n",
        "      horizontal_flip=True,\n",
        "      width_shift_range=0.2, \n",
        "      height_shift_range=0.2,\n",
        "      shear_range=0.01,\n",
        "      channel_shift_range = 0.1,\n",
        "      samplewise_center = True,\n",
        "      brightness_range=[0.5, 1.5], \n",
        "      zoom_range=[0.9, 1.25],\n",
        "      fill_mode='nearest')\n",
        "validation_generator = validation_datagen.flow_from_directory(\n",
        "    validation_dir, \n",
        "    shuffle=False, \n",
        "    seed=5555,\n",
        "    color_mode=\"rgb\", \n",
        "    class_mode=\"categorical\",\n",
        "    target_size=IMAGE_SIZE,#224 x 224\n",
        "    batch_size=BATCH_SIZE) #70\n",
        "\n",
        "do_data_augmentation = False #@param {type:\"boolean\"}\n",
        "if do_data_augmentation:\n",
        "  train_datagen = tf.keras.preprocessing.image.ImageDataGenerator(\n",
        "      rescale = 1./255,\n",
        "      rotation_range=8,\n",
        "      horizontal_flip=True,\n",
        "      width_shift_range=0.2, \n",
        "      height_shift_range=0.2,\n",
        "      samplewise_center = True,\n",
        "      shear_range=0.01,\n",
        "      channel_shift_range = 0.1,\n",
        "      brightness_range=[0.5, 1.5], \n",
        "      zoom_range=[0.9, 1.25],\n",
        "      fill_mode='nearest' )\n",
        "else:\n",
        "  train_datagen = validation_datagen\n",
        "  \n",
        "train_generator = train_datagen.flow_from_directory(\n",
        "    train_dir, \n",
        "    subset=\"training\", \n",
        "    shuffle=True, \n",
        "    seed=5555,\n",
        "    color_mode=\"rgb\", \n",
        "    class_mode=\"categorical\",\n",
        "    target_size=IMAGE_SIZE,#224 x 224\n",
        "    batch_size=BATCH_SIZE) #70"
      ],
      "execution_count": null,
      "outputs": [
        {
          "output_type": "stream",
          "text": [
            "Found 1889 images belonging to 5 classes.\n",
            "Found 5656 images belonging to 5 classes.\n"
          ],
          "name": "stdout"
        }
      ]
    },
    {
      "cell_type": "code",
      "metadata": {
        "id": "HkFyzvajFyfS"
      },
      "source": [
        "test_datagen = tf.keras.preprocessing.image.ImageDataGenerator(\n",
        "   samplewise_center = True,\n",
        "         rescale=1./255\n",
        ")"
      ],
      "execution_count": null,
      "outputs": []
    },
    {
      "cell_type": "code",
      "metadata": {
        "id": "u1iubxoUFkTX",
        "colab": {
          "base_uri": "https://localhost:8080/",
          "height": 35
        },
        "outputId": "2da6dbbd-ebd9-4b3c-fa0f-c094c057c177"
      },
      "source": [
        "test_generator=test_datagen.flow_from_directory(\n",
        "                directory=\"/content/drive/My Drive/Cassava/test\",\n",
        "                batch_size=BATCH_SIZE,\n",
        "                seed=42,\n",
        "                shuffle=False,\n",
        "                class_mode=None,\n",
        "                target_size=(IMAGE_SIZE))"
      ],
      "execution_count": null,
      "outputs": [
        {
          "output_type": "stream",
          "text": [
            "Found 1891 images belonging to 5 classes.\n"
          ],
          "name": "stdout"
        }
      ]
    },
    {
      "cell_type": "code",
      "metadata": {
        "id": "geHhhgKcKsx9",
        "colab": {
          "base_uri": "https://localhost:8080/",
          "height": 35
        },
        "outputId": "f6a12f8d-2c0d-441b-f03f-0cbed455880a"
      },
      "source": [
        "test_generator1=test_datagen.flow_from_directory(\n",
        "                directory=\"/content/drive/My Drive/Cassava/test1\",\n",
        "                batch_size=BATCH_SIZE,\n",
        "                seed=42,\n",
        "                shuffle=False,\n",
        "                class_mode=None,\n",
        "                target_size=(IMAGE_SIZE))"
      ],
      "execution_count": null,
      "outputs": [
        {
          "output_type": "stream",
          "text": [
            "Found 3783 images belonging to 1 classes.\n"
          ],
          "name": "stdout"
        }
      ]
    },
    {
      "cell_type": "code",
      "metadata": {
        "id": "Iiu7viPNdEI9"
      },
      "source": [
        "feature_extractor = hub.KerasLayer(MODULE_HANDLE,\n",
        "                                   input_shape=IMAGE_SIZE+(3,),\n",
        "                                   output_shape=[FV_SIZE])\n",
        "\n",
        "\n"
      ],
      "execution_count": null,
      "outputs": []
    },
    {
      "cell_type": "markdown",
      "metadata": {
        "id": "Cqkkk2IT5a40"
      },
      "source": [
        "# **Mempersiapkan Parameter Model**\n",
        "\n"
      ]
    },
    {
      "cell_type": "code",
      "metadata": {
        "id": "hMYytuAGB34w"
      },
      "source": [
        "do_fine_tuning = False #@param {type:\"boolean\"}\n",
        "if do_fine_tuning:\n",
        "  feature_extractor.trainable = True\n",
        "  # unfreeze some layers of base network for fine-tuning\n",
        "  for layer in base_model.layers[-30:]:\n",
        "    layer.trainable =True\n",
        "  \n",
        "else:\n",
        "  feature_extractor.trainable = False\n",
        "    "
      ],
      "execution_count": null,
      "outputs": []
    },
    {
      "cell_type": "code",
      "metadata": {
        "id": "E50SQfA9RLI0",
        "colab": {
          "base_uri": "https://localhost:8080/",
          "height": 366
        },
        "outputId": "b3f91deb-16f2-430d-bc06-54df809e7365"
      },
      "source": [
        "print(\"Building model with\", MODULE_HANDLE)\n",
        "model = tf.keras.Sequential([\n",
        "    feature_extractor,\n",
        "    tf.keras.layers.Flatten(),\n",
        "    tf.keras.layers.Dense(512, activation='relu'),\n",
        "    tf.keras.layers.Dropout(rate=0.2),\n",
        "    tf.keras.layers.Dense(train_generator.num_classes, activation='softmax',\n",
        "                           kernel_regularizer=tf.keras.regularizers.l2(0.0001))\n",
        "])\n",
        "#model.build((None,)+IMAGE_SIZE+(3,))\n",
        "\n",
        "model.summary()"
      ],
      "execution_count": null,
      "outputs": [
        {
          "output_type": "stream",
          "text": [
            "Building model with https://tfhub.dev/google/tf2-preview/mobilenet_v2/feature_vector/4\n",
            "Model: \"sequential\"\n",
            "_________________________________________________________________\n",
            "Layer (type)                 Output Shape              Param #   \n",
            "=================================================================\n",
            "keras_layer (KerasLayer)     (None, 1280)              2257984   \n",
            "_________________________________________________________________\n",
            "flatten (Flatten)            (None, 1280)              0         \n",
            "_________________________________________________________________\n",
            "dense (Dense)                (None, 512)               655872    \n",
            "_________________________________________________________________\n",
            "dropout (Dropout)            (None, 512)               0         \n",
            "_________________________________________________________________\n",
            "dense_1 (Dense)              (None, 5)                 2565      \n",
            "=================================================================\n",
            "Total params: 2,916,421\n",
            "Trainable params: 658,437\n",
            "Non-trainable params: 2,257,984\n",
            "_________________________________________________________________\n"
          ],
          "name": "stdout"
        }
      ]
    },
    {
      "cell_type": "markdown",
      "metadata": {
        "id": "2suBtadl6s4C"
      },
      "source": [
        "# **Menentukan Optimizers dan Loss Function**\n",
        "\n"
      ]
    },
    {
      "cell_type": "code",
      "metadata": {
        "id": "cq5rzR-vV7tn"
      },
      "source": [
        "#Compile model specifying the optimizer learning rate\n",
        "\n",
        "LEARNING_RATE = 0.0001 #@param {type:\"number\"}\n",
        "\n",
        "model.compile(\n",
        "   optimizer=tf.keras.optimizers.Adam(lr=LEARNING_RATE), \n",
        "   loss='categorical_crossentropy',\n",
        "   metrics=['accuracy'])\n",
        "\n"
      ],
      "execution_count": null,
      "outputs": []
    },
    {
      "cell_type": "markdown",
      "metadata": {
        "id": "Fcx8JI5Z7EGp"
      },
      "source": [
        "# **Melatih Model**\n",
        "\n"
      ]
    },
    {
      "cell_type": "code",
      "metadata": {
        "id": "Cf1FVwyCRI8o",
        "colab": {
          "base_uri": "https://localhost:8080/",
          "height": 1000
        },
        "outputId": "f71b2260-4db5-4242-c427-36b0aa979729"
      },
      "source": [
        "\n",
        "EPOCHS=80 #@param {type:\"integer\"}\n",
        "STEP_SIZE_TRAIN=train_generator.samples//train_generator.batch_size+ 1\n",
        "STEP_SIZE_VALID=validation_generator.samples//validation_generator.batch_size+ 1\n",
        "history = model.fit_generator(\n",
        "        train_generator,\n",
        "        steps_per_epoch=STEP_SIZE_TRAIN,\n",
        "        epochs=EPOCHS,\n",
        "        validation_data=validation_generator,\n",
        "        validation_steps=STEP_SIZE_VALID)"
      ],
      "execution_count": null,
      "outputs": [
        {
          "output_type": "stream",
          "text": [
            "Epoch 1/80\n",
            "81/81 [==============================] - 144s 2s/step - loss: 0.6147 - accuracy: 0.7707 - val_loss: 0.7189 - val_accuracy: 0.7480\n",
            "Epoch 2/80\n",
            "81/81 [==============================] - 143s 2s/step - loss: 0.6232 - accuracy: 0.7702 - val_loss: 0.7159 - val_accuracy: 0.7459\n",
            "Epoch 3/80\n",
            "81/81 [==============================] - 143s 2s/step - loss: 0.6144 - accuracy: 0.7816 - val_loss: 0.7311 - val_accuracy: 0.7247\n",
            "Epoch 4/80\n",
            "81/81 [==============================] - 143s 2s/step - loss: 0.6125 - accuracy: 0.7740 - val_loss: 0.7068 - val_accuracy: 0.7305\n",
            "Epoch 5/80\n",
            "81/81 [==============================] - 143s 2s/step - loss: 0.6074 - accuracy: 0.7732 - val_loss: 0.7404 - val_accuracy: 0.7263\n",
            "Epoch 6/80\n",
            "81/81 [==============================] - 143s 2s/step - loss: 0.6101 - accuracy: 0.7816 - val_loss: 0.7263 - val_accuracy: 0.7305\n",
            "Epoch 7/80\n",
            "81/81 [==============================] - 143s 2s/step - loss: 0.5938 - accuracy: 0.7831 - val_loss: 0.7195 - val_accuracy: 0.7327\n",
            "Epoch 8/80\n",
            "81/81 [==============================] - 144s 2s/step - loss: 0.5867 - accuracy: 0.7848 - val_loss: 0.6964 - val_accuracy: 0.7417\n",
            "Epoch 9/80\n",
            "81/81 [==============================] - 143s 2s/step - loss: 0.5891 - accuracy: 0.7852 - val_loss: 0.7337 - val_accuracy: 0.7321\n",
            "Epoch 10/80\n",
            "81/81 [==============================] - 143s 2s/step - loss: 0.5972 - accuracy: 0.7861 - val_loss: 0.7152 - val_accuracy: 0.7305\n",
            "Epoch 11/80\n",
            "81/81 [==============================] - 143s 2s/step - loss: 0.5782 - accuracy: 0.7887 - val_loss: 0.7096 - val_accuracy: 0.7433\n",
            "Epoch 12/80\n",
            "81/81 [==============================] - 144s 2s/step - loss: 0.5850 - accuracy: 0.7847 - val_loss: 0.6776 - val_accuracy: 0.7612\n",
            "Epoch 13/80\n",
            "81/81 [==============================] - 143s 2s/step - loss: 0.5650 - accuracy: 0.7935 - val_loss: 0.7140 - val_accuracy: 0.7385\n",
            "Epoch 14/80\n",
            "81/81 [==============================] - 143s 2s/step - loss: 0.5791 - accuracy: 0.7905 - val_loss: 0.7031 - val_accuracy: 0.7470\n",
            "Epoch 15/80\n",
            "81/81 [==============================] - 142s 2s/step - loss: 0.5601 - accuracy: 0.7933 - val_loss: 0.7045 - val_accuracy: 0.7422\n",
            "Epoch 16/80\n",
            "81/81 [==============================] - 143s 2s/step - loss: 0.5696 - accuracy: 0.7933 - val_loss: 0.7128 - val_accuracy: 0.7406\n",
            "Epoch 17/80\n",
            "81/81 [==============================] - 143s 2s/step - loss: 0.5520 - accuracy: 0.7992 - val_loss: 0.7149 - val_accuracy: 0.7332\n",
            "Epoch 18/80\n",
            "81/81 [==============================] - 143s 2s/step - loss: 0.5650 - accuracy: 0.7931 - val_loss: 0.7307 - val_accuracy: 0.7401\n",
            "Epoch 19/80\n",
            "81/81 [==============================] - 144s 2s/step - loss: 0.5570 - accuracy: 0.7938 - val_loss: 0.7289 - val_accuracy: 0.7406\n",
            "Epoch 20/80\n",
            "81/81 [==============================] - 143s 2s/step - loss: 0.5457 - accuracy: 0.7979 - val_loss: 0.7165 - val_accuracy: 0.7406\n",
            "Epoch 21/80\n",
            "81/81 [==============================] - 144s 2s/step - loss: 0.5454 - accuracy: 0.8004 - val_loss: 0.7228 - val_accuracy: 0.7411\n",
            "Epoch 22/80\n",
            "81/81 [==============================] - 144s 2s/step - loss: 0.5410 - accuracy: 0.8055 - val_loss: 0.7110 - val_accuracy: 0.7417\n",
            "Epoch 23/80\n",
            "81/81 [==============================] - 144s 2s/step - loss: 0.5432 - accuracy: 0.8000 - val_loss: 0.6975 - val_accuracy: 0.7422\n",
            "Epoch 24/80\n",
            "81/81 [==============================] - 143s 2s/step - loss: 0.5389 - accuracy: 0.8052 - val_loss: 0.7090 - val_accuracy: 0.7448\n",
            "Epoch 25/80\n",
            "81/81 [==============================] - 143s 2s/step - loss: 0.5328 - accuracy: 0.8078 - val_loss: 0.7340 - val_accuracy: 0.7374\n",
            "Epoch 26/80\n",
            "81/81 [==============================] - 143s 2s/step - loss: 0.5451 - accuracy: 0.8020 - val_loss: 0.7257 - val_accuracy: 0.7279\n",
            "Epoch 27/80\n",
            "81/81 [==============================] - 144s 2s/step - loss: 0.5436 - accuracy: 0.8052 - val_loss: 0.7044 - val_accuracy: 0.7438\n",
            "Epoch 28/80\n",
            "81/81 [==============================] - 143s 2s/step - loss: 0.5393 - accuracy: 0.8039 - val_loss: 0.6937 - val_accuracy: 0.7528\n",
            "Epoch 29/80\n",
            "81/81 [==============================] - 143s 2s/step - loss: 0.5234 - accuracy: 0.8128 - val_loss: 0.6968 - val_accuracy: 0.7401\n",
            "Epoch 30/80\n",
            "81/81 [==============================] - 144s 2s/step - loss: 0.5309 - accuracy: 0.8078 - val_loss: 0.7041 - val_accuracy: 0.7406\n",
            "Epoch 31/80\n",
            "81/81 [==============================] - 144s 2s/step - loss: 0.5199 - accuracy: 0.8128 - val_loss: 0.6981 - val_accuracy: 0.7358\n",
            "Epoch 32/80\n",
            "81/81 [==============================] - 143s 2s/step - loss: 0.5150 - accuracy: 0.8147 - val_loss: 0.7113 - val_accuracy: 0.7390\n",
            "Epoch 33/80\n",
            "81/81 [==============================] - 144s 2s/step - loss: 0.5077 - accuracy: 0.8190 - val_loss: 0.7082 - val_accuracy: 0.7369\n",
            "Epoch 34/80\n",
            "81/81 [==============================] - 143s 2s/step - loss: 0.5054 - accuracy: 0.8207 - val_loss: 0.7056 - val_accuracy: 0.7533\n",
            "Epoch 35/80\n",
            "81/81 [==============================] - 143s 2s/step - loss: 0.5136 - accuracy: 0.8145 - val_loss: 0.7022 - val_accuracy: 0.7459\n",
            "Epoch 36/80\n",
            "81/81 [==============================] - 144s 2s/step - loss: 0.5069 - accuracy: 0.8142 - val_loss: 0.7250 - val_accuracy: 0.7544\n",
            "Epoch 37/80\n",
            "81/81 [==============================] - 143s 2s/step - loss: 0.5044 - accuracy: 0.8182 - val_loss: 0.7124 - val_accuracy: 0.7417\n",
            "Epoch 38/80\n",
            "81/81 [==============================] - 144s 2s/step - loss: 0.4870 - accuracy: 0.8285 - val_loss: 0.6909 - val_accuracy: 0.7522\n",
            "Epoch 39/80\n",
            "81/81 [==============================] - 143s 2s/step - loss: 0.4932 - accuracy: 0.8267 - val_loss: 0.7144 - val_accuracy: 0.7454\n",
            "Epoch 40/80\n",
            "81/81 [==============================] - 144s 2s/step - loss: 0.4892 - accuracy: 0.8227 - val_loss: 0.7176 - val_accuracy: 0.7364\n",
            "Epoch 41/80\n",
            "81/81 [==============================] - 143s 2s/step - loss: 0.4854 - accuracy: 0.8251 - val_loss: 0.7120 - val_accuracy: 0.7364\n",
            "Epoch 42/80\n",
            "81/81 [==============================] - 144s 2s/step - loss: 0.4887 - accuracy: 0.8274 - val_loss: 0.7158 - val_accuracy: 0.7395\n",
            "Epoch 43/80\n",
            "81/81 [==============================] - 144s 2s/step - loss: 0.4928 - accuracy: 0.8214 - val_loss: 0.7330 - val_accuracy: 0.7406\n",
            "Epoch 44/80\n",
            "81/81 [==============================] - 144s 2s/step - loss: 0.4799 - accuracy: 0.8257 - val_loss: 0.6991 - val_accuracy: 0.7480\n",
            "Epoch 45/80\n",
            "81/81 [==============================] - 143s 2s/step - loss: 0.4906 - accuracy: 0.8243 - val_loss: 0.7132 - val_accuracy: 0.7470\n",
            "Epoch 46/80\n",
            "81/81 [==============================] - 143s 2s/step - loss: 0.4762 - accuracy: 0.8306 - val_loss: 0.7171 - val_accuracy: 0.7507\n",
            "Epoch 47/80\n",
            "81/81 [==============================] - 143s 2s/step - loss: 0.4727 - accuracy: 0.8271 - val_loss: 0.7127 - val_accuracy: 0.7369\n",
            "Epoch 48/80\n",
            "81/81 [==============================] - 145s 2s/step - loss: 0.4772 - accuracy: 0.8234 - val_loss: 0.6947 - val_accuracy: 0.7459\n",
            "Epoch 49/80\n",
            "81/81 [==============================] - 143s 2s/step - loss: 0.4691 - accuracy: 0.8262 - val_loss: 0.6795 - val_accuracy: 0.7597\n",
            "Epoch 50/80\n",
            "81/81 [==============================] - 143s 2s/step - loss: 0.4659 - accuracy: 0.8308 - val_loss: 0.7107 - val_accuracy: 0.7475\n",
            "Epoch 51/80\n",
            "81/81 [==============================] - 144s 2s/step - loss: 0.4641 - accuracy: 0.8308 - val_loss: 0.7252 - val_accuracy: 0.7438\n",
            "Epoch 52/80\n",
            "81/81 [==============================] - 143s 2s/step - loss: 0.4640 - accuracy: 0.8335 - val_loss: 0.7091 - val_accuracy: 0.7660\n",
            "Epoch 53/80\n",
            "81/81 [==============================] - 144s 2s/step - loss: 0.4659 - accuracy: 0.8327 - val_loss: 0.7566 - val_accuracy: 0.7385\n",
            "Epoch 54/80\n",
            "81/81 [==============================] - 143s 2s/step - loss: 0.4648 - accuracy: 0.8350 - val_loss: 0.7351 - val_accuracy: 0.7464\n",
            "Epoch 55/80\n",
            "81/81 [==============================] - 143s 2s/step - loss: 0.4548 - accuracy: 0.8289 - val_loss: 0.7148 - val_accuracy: 0.7586\n",
            "Epoch 56/80\n",
            "81/81 [==============================] - 143s 2s/step - loss: 0.4614 - accuracy: 0.8366 - val_loss: 0.6945 - val_accuracy: 0.7512\n",
            "Epoch 57/80\n",
            "81/81 [==============================] - 144s 2s/step - loss: 0.4581 - accuracy: 0.8317 - val_loss: 0.7107 - val_accuracy: 0.7507\n",
            "Epoch 58/80\n",
            "81/81 [==============================] - 143s 2s/step - loss: 0.4523 - accuracy: 0.8359 - val_loss: 0.7113 - val_accuracy: 0.7337\n",
            "Epoch 59/80\n",
            "81/81 [==============================] - 144s 2s/step - loss: 0.4559 - accuracy: 0.8335 - val_loss: 0.7143 - val_accuracy: 0.7501\n",
            "Epoch 60/80\n",
            "81/81 [==============================] - 143s 2s/step - loss: 0.4622 - accuracy: 0.8366 - val_loss: 0.7305 - val_accuracy: 0.7364\n",
            "Epoch 61/80\n",
            "81/81 [==============================] - 144s 2s/step - loss: 0.4467 - accuracy: 0.8389 - val_loss: 0.6808 - val_accuracy: 0.7581\n",
            "Epoch 62/80\n",
            "81/81 [==============================] - 144s 2s/step - loss: 0.4368 - accuracy: 0.8453 - val_loss: 0.7141 - val_accuracy: 0.7517\n",
            "Epoch 63/80\n",
            "81/81 [==============================] - 144s 2s/step - loss: 0.4403 - accuracy: 0.8398 - val_loss: 0.7273 - val_accuracy: 0.7374\n",
            "Epoch 64/80\n",
            "81/81 [==============================] - 144s 2s/step - loss: 0.4454 - accuracy: 0.8389 - val_loss: 0.6986 - val_accuracy: 0.7501\n",
            "Epoch 65/80\n",
            "81/81 [==============================] - 144s 2s/step - loss: 0.4448 - accuracy: 0.8444 - val_loss: 0.7215 - val_accuracy: 0.7501\n",
            "Epoch 66/80\n",
            "81/81 [==============================] - 144s 2s/step - loss: 0.4247 - accuracy: 0.8476 - val_loss: 0.7262 - val_accuracy: 0.7491\n",
            "Epoch 67/80\n",
            "81/81 [==============================] - 143s 2s/step - loss: 0.4447 - accuracy: 0.8396 - val_loss: 0.7250 - val_accuracy: 0.7448\n",
            "Epoch 68/80\n",
            "81/81 [==============================] - 144s 2s/step - loss: 0.4447 - accuracy: 0.8403 - val_loss: 0.7292 - val_accuracy: 0.7459\n",
            "Epoch 69/80\n",
            "81/81 [==============================] - 143s 2s/step - loss: 0.4249 - accuracy: 0.8448 - val_loss: 0.7047 - val_accuracy: 0.7517\n",
            "Epoch 70/80\n",
            "81/81 [==============================] - 144s 2s/step - loss: 0.4338 - accuracy: 0.8409 - val_loss: 0.7314 - val_accuracy: 0.7364\n",
            "Epoch 71/80\n",
            "81/81 [==============================] - 143s 2s/step - loss: 0.4139 - accuracy: 0.8580 - val_loss: 0.7221 - val_accuracy: 0.7395\n",
            "Epoch 72/80\n",
            "81/81 [==============================] - 144s 2s/step - loss: 0.4222 - accuracy: 0.8529 - val_loss: 0.6929 - val_accuracy: 0.7570\n",
            "Epoch 73/80\n",
            "81/81 [==============================] - 143s 2s/step - loss: 0.4181 - accuracy: 0.8501 - val_loss: 0.7330 - val_accuracy: 0.7422\n",
            "Epoch 74/80\n",
            "81/81 [==============================] - 144s 2s/step - loss: 0.4347 - accuracy: 0.8448 - val_loss: 0.7239 - val_accuracy: 0.7337\n",
            "Epoch 75/80\n",
            "81/81 [==============================] - 144s 2s/step - loss: 0.4225 - accuracy: 0.8446 - val_loss: 0.7267 - val_accuracy: 0.7485\n",
            "Epoch 76/80\n",
            "81/81 [==============================] - 144s 2s/step - loss: 0.4169 - accuracy: 0.8483 - val_loss: 0.7177 - val_accuracy: 0.7485\n",
            "Epoch 77/80\n",
            "81/81 [==============================] - 144s 2s/step - loss: 0.4212 - accuracy: 0.8499 - val_loss: 0.6945 - val_accuracy: 0.7438\n",
            "Epoch 78/80\n",
            "81/81 [==============================] - 144s 2s/step - loss: 0.4172 - accuracy: 0.8497 - val_loss: 0.7121 - val_accuracy: 0.7454\n",
            "Epoch 79/80\n",
            "81/81 [==============================] - 145s 2s/step - loss: 0.4044 - accuracy: 0.8563 - val_loss: 0.7048 - val_accuracy: 0.7528\n",
            "Epoch 80/80\n",
            "81/81 [==============================] - 144s 2s/step - loss: 0.4116 - accuracy: 0.8538 - val_loss: 0.7111 - val_accuracy: 0.7496\n"
          ],
          "name": "stdout"
        }
      ]
    },
    {
      "cell_type": "markdown",
      "metadata": {
        "id": "MZVcWWod7jP-"
      },
      "source": [
        "# **Mengukur Akurasi Model**\n",
        "\n"
      ]
    },
    {
      "cell_type": "code",
      "metadata": {
        "id": "HmLGwYY85RI1",
        "colab": {
          "base_uri": "https://localhost:8080/",
          "height": 513
        },
        "outputId": "575bdbac-6120-4ef7-c5c6-bfab97189793"
      },
      "source": [
        "import matplotlib.pylab as plt\n",
        "import numpy as np\n",
        "\n",
        "acc = history.history['accuracy']\n",
        "val_acc = history.history['val_accuracy']\n",
        "\n",
        "loss = history.history['loss']\n",
        "val_loss = history.history['val_loss']\n",
        "\n",
        "epochs_range = range(EPOCHS)\n",
        "\n",
        "plt.figure(figsize=(8, 8))\n",
        "plt.subplot(1, 2, 1)\n",
        "plt.plot(epochs_range, acc, label='Training Accuracy')\n",
        "plt.plot(epochs_range, val_acc, label='Validation Accuracy')\n",
        "plt.legend(loc='lower right')\n",
        "plt.title('Training and Validation Accuracy')\n",
        "plt.ylabel(\"Accuracy (training and validation)\")\n",
        "plt.xlabel(\"Training Steps\")\n",
        "\n",
        "plt.subplot(1, 2, 2)\n",
        "plt.plot(epochs_range, loss, label='Training Loss')\n",
        "plt.plot(epochs_range, val_loss, label='Validation Loss')\n",
        "plt.legend(loc='upper right')\n",
        "plt.title('Training and Validation Loss')\n",
        "plt.ylabel(\"Loss (training and validation)\")\n",
        "plt.xlabel(\"Training Steps\")\n",
        "plt.show()"
      ],
      "execution_count": null,
      "outputs": [
        {
          "output_type": "display_data",
          "data": {
            "image/png": "[encoded data removed]",
            "text/plain": [
              "<Figure size 576x576 with 2 Axes>"
            ]
          },
          "metadata": {
            "tags": [],
            "needs_background": "light"
          }
        }
      ]
    },
    {
      "cell_type": "markdown",
      "metadata": {
        "id": "yk-a-h1i7vPW"
      },
      "source": [
        "# **Menyimpan Model**\n",
        "\n"
      ]
    },
    {
      "cell_type": "code",
      "metadata": {
        "id": "OxZNx2DRTolS",
        "colab": {
          "base_uri": "https://localhost:8080/",
          "height": 203
        },
        "outputId": "e9d8f20e-2db3-439c-eceb-e74586b4b428"
      },
      "source": [
        "\n"
      ],
      "execution_count": null,
      "outputs": [
        {
          "output_type": "stream",
          "text": [
            "WARNING:tensorflow:From /usr/local/lib/python3.6/dist-packages/tensorflow/python/ops/resource_variable_ops.py:1817: calling BaseResourceVariable.__init__ (from tensorflow.python.ops.resource_variable_ops) with constraint is deprecated and will be removed in a future version.\n",
            "Instructions for updating:\n",
            "If using Keras pass *_constraint arguments to layers.\n"
          ],
          "name": "stdout"
        },
        {
          "output_type": "stream",
          "text": [
            "WARNING:tensorflow:From /usr/local/lib/python3.6/dist-packages/tensorflow/python/ops/resource_variable_ops.py:1817: calling BaseResourceVariable.__init__ (from tensorflow.python.ops.resource_variable_ops) with constraint is deprecated and will be removed in a future version.\n",
            "Instructions for updating:\n",
            "If using Keras pass *_constraint arguments to layers.\n"
          ],
          "name": "stderr"
        },
        {
          "output_type": "stream",
          "text": [
            "INFO:tensorflow:Assets written to: /tmp/saved_models/1596167327/assets\n"
          ],
          "name": "stdout"
        },
        {
          "output_type": "stream",
          "text": [
            "INFO:tensorflow:Assets written to: /tmp/saved_models/1596167327/assets\n"
          ],
          "name": "stderr"
        },
        {
          "output_type": "execute_result",
          "data": {
            "application/vnd.google.colaboratory.intrinsic+json": {
              "type": "string"
            },
            "text/plain": [
              "'/tmp/saved_models/1596167327'"
            ]
          },
          "metadata": {
            "tags": []
          },
          "execution_count": 19
        }
      ]
    },
    {
      "cell_type": "code",
      "metadata": {
        "id": "i1EkGUwbUIw8"
      },
      "source": [
        "# Now confirm that we can reload it, and it still gives the same results\n",
        "reloaded = tf.keras.models.load_model(export_path, custom_objects={'KerasLayer':hub.KerasLayer})"
      ],
      "execution_count": null,
      "outputs": []
    },
    {
      "cell_type": "code",
      "metadata": {
        "id": "nJHOEnvxdN50",
        "colab": {
          "base_uri": "https://localhost:8080/",
          "height": 35
        },
        "outputId": "35f41baf-b7d0-46a0-e7d6-84bb04e350e8"
      },
      "source": [
        "# convert the model to TFLite\n",
        "!mkdir \"tflite_models\"\n",
        "TFLITE_MODEL = \"tflite_models/plant_disease_model2.tflite\"\n",
        "\n",
        "\n",
        "# Get the concrete function from the Keras model.\n",
        "run_model = tf.function(lambda x : reloaded(x))\n",
        "\n",
        "# Save the concrete function.\n",
        "concrete_func = run_model.get_concrete_function(\n",
        "    tf.TensorSpec(model.inputs[0].shape, model.inputs[0].dtype)\n",
        ")\n",
        "\n",
        "# Convert the model to standard TensorFlow Lite model\n",
        "converter = tf.lite.TFLiteConverter.from_concrete_functions([concrete_func])\n",
        "converted_tflite_model = converter.convert()\n",
        "open(TFLITE_MODEL, \"wb\").write(converted_tflite_model)"
      ],
      "execution_count": null,
      "outputs": [
        {
          "output_type": "execute_result",
          "data": {
            "text/plain": [
              "11481832"
            ]
          },
          "metadata": {
            "tags": []
          },
          "execution_count": 21
        }
      ]
    },
    {
      "cell_type": "code",
      "metadata": {
        "id": "W4MWhD-A6t3I"
      },
      "source": [
        "model.save('/content/drive/My Drive/Cassava/casfix.h5')"
      ],
      "execution_count": null,
      "outputs": []
    },
    {
      "cell_type": "markdown",
      "metadata": {
        "id": "JygYGxfs8CeN"
      },
      "source": [
        "# **Menguji Model Dengan Data Test**\n",
        "\n"
      ]
    },
    {
      "cell_type": "code",
      "metadata": {
        "id": "Devpkg3E7F3W",
        "colab": {
          "base_uri": "https://localhost:8080/",
          "height": 35
        },
        "outputId": "f94583fc-fd55-48fb-fa77-c7ade01e4e94"
      },
      "source": [
        "import json\n",
        "\n",
        "with open('/content/drive/My Drive/Cassava/categories.json', 'r') as f:\n",
        "    cat_to_name = json.load(f)\n",
        "    classes = list(cat_to_name.values())\n",
        "    \n",
        "print (classes)"
      ],
      "execution_count": null,
      "outputs": [
        {
          "output_type": "stream",
          "text": [
            "['cbb', 'cmd', 'cgm', 'cbsd', 'healthy']\n"
          ],
          "name": "stdout"
        }
      ]
    },
    {
      "cell_type": "code",
      "metadata": {
        "id": "l1jIf7rKTBLx"
      },
      "source": [
        "# Import OpenCV\n",
        "import cv2\n",
        "\n",
        "# Utility\n",
        "import itertools\n",
        "import random\n",
        "from collections import Counter\n",
        "from glob import iglob\n",
        "\n",
        "\n",
        "def load_image(filename):\n",
        "    img = cv2.imread(os.path.join(base_dir,test_dir, filename))\n",
        "    img = cv2.resize(img, (IMAGE_SIZE[0], IMAGE_SIZE[1]) )\n",
        "    # img = cv2.resize(img, (50,50) )\n",
        "    img = img /255\n",
        "    \n",
        "    return img\n",
        "\n",
        "def predict(image):\n",
        "    probabilities = model.predict(np.asarray([img]))[0]\n",
        "    class_idx = np.argmax(probabilities)\n",
        "    \n",
        "    return {classes[class_idx]: probabilities[class_idx]}"
      ],
      "execution_count": null,
      "outputs": []
    },
    {
      "cell_type": "code",
      "metadata": {
        "id": "tKZduGZoTFSg"
      },
      "source": [
        "for idx, filename in enumerate(random.sample(test_generator.filenames, 10)):\n",
        "    print(\"SOURCE: class: %s, file: %s\" % (os.path.split(filename)[0], filename))\n",
        "    \n",
        "    img = load_image(filename)\n",
        "    prediction = predict(img)\n",
        "    print(\"PREDICTED: class: %s, confidence: %f\" % (list(prediction.keys())[0], list(prediction.values())[0]))\n",
        "    plt.imshow(img)\n",
        "    plt.figure(idx)    \n",
        "    plt.show()"
      ],
      "execution_count": null,
      "outputs": []
    },
    {
      "cell_type": "code",
      "metadata": {
        "id": "PSzqguyzdCvY"
      },
      "source": [
        "new_model = tf.keras.models.load_model('/content/drive/My Drive/Cassava/casfix.h5',custom_objects={'KerasLayer':hub.KerasLayer})\n",
        "# reloaded = tf.keras.models.load_model(export_path, custom_objects={'KerasLayer':hub.KerasLayer})\n",
        "C1 = [\"cbb\",\"cbsd\",\"cgm\",\"cmd\",\"healthy\"]"
      ],
      "execution_count": null,
      "outputs": []
    },
    {
      "cell_type": "code",
      "metadata": {
        "id": "t72kLjrjeA_n"
      },
      "source": [
        "# Import OpenCV\n",
        "import cv2\n",
        "\n",
        "# Utility\n",
        "import itertools\n",
        "import random\n",
        "from collections import Counter\n",
        "from glob import iglob\n",
        "\n",
        "\n",
        "def load_image(filename):\n",
        "    img = cv2.imread(os.path.join(base_dir,test_dir, filename))\n",
        "    img = cv2.resize(img, (IMAGE_SIZE[0], IMAGE_SIZE[1]) )\n",
        "    img = img /255\n",
        "    \n",
        "    return img\n",
        "\n",
        "\n",
        "def predict(image):\n",
        "    probabilities = new_model.predict(np.asarray([img]))[0]\n",
        "    class_idx = np.argmax(probabilities)\n",
        "    \n",
        "    return {classes[class_idx]: probabilities[class_idx]}"
      ],
      "execution_count": null,
      "outputs": []
    },
    {
      "cell_type": "code",
      "metadata": {
        "id": "5qttnIeoRSmA",
        "colab": {
          "base_uri": "https://localhost:8080/",
          "height": 324
        },
        "outputId": "8642cc52-1ad7-4874-ca55-58426583eec0"
      },
      "source": [
        "for idx, filename in enumerate(test_generator.filenames [1791:1792]):\n",
        "    print(\"SOURCE: class: %s, file: %s\" % (os.path.split(filename)[0], filename))\n",
        "    \n",
        "    img = load_image(filename)\n",
        "    prediction = predict(img)\n",
        "    print(\"PREDICTED: class: %s, confidence: %f\" % (list(prediction.keys())[0], list(prediction.values())[0]))\n",
        "    plt.imshow(img)\n",
        "    plt.figure(idx)    \n",
        "    plt.show()"
      ],
      "execution_count": null,
      "outputs": [
        {
          "output_type": "stream",
          "text": [
            "SOURCE: class: healthy, file: healthy/test-healthy-102.jpg\n",
            "PREDICTED: class: healthy, confidence: 0.896221\n"
          ],
          "name": "stdout"
        },
        {
          "output_type": "display_data",
          "data": {
            "image/png": "[encoded data removed]",
            "text/plain": [
              "<Figure size 432x288 with 1 Axes>"
            ]
          },
          "metadata": {
            "tags": [],
            "needs_background": "light"
          }
        },
        {
          "output_type": "display_data",
          "data": {
            "text/plain": [
              "<Figure size 432x288 with 0 Axes>"
            ]
          },
          "metadata": {
            "tags": []
          }
        }
      ]
    },
    {
      "cell_type": "code",
      "metadata": {
        "id": "bROQ9IZWDRCF",
        "colab": {
          "base_uri": "https://localhost:8080/",
          "height": 147
        },
        "outputId": "51da69a6-82e9-4a0b-a7a3-3b701ad21d9c"
      },
      "source": [
        "import numpy as np\n",
        "test_steps_per_epoch = np.math.ceil(test_generator.n /test_generator.batch_size )\n",
        "predictions = model.predict_generator(test_generator, steps=test_steps_per_epoch)\n",
        "# Get most likely class\n",
        "predicted_classes = np.argmax(predictions, axis=1)"
      ],
      "execution_count": null,
      "outputs": [
        {
          "output_type": "stream",
          "text": [
            "WARNING:tensorflow:From <ipython-input-22-cffc4628e67a>:3: Model.predict_generator (from tensorflow.python.keras.engine.training) is deprecated and will be removed in a future version.\n",
            "Instructions for updating:\n",
            "Please use Model.predict, which supports generators.\n"
          ],
          "name": "stdout"
        },
        {
          "output_type": "stream",
          "text": [
            "WARNING:tensorflow:From <ipython-input-22-cffc4628e67a>:3: Model.predict_generator (from tensorflow.python.keras.engine.training) is deprecated and will be removed in a future version.\n",
            "Instructions for updating:\n",
            "Please use Model.predict, which supports generators.\n"
          ],
          "name": "stderr"
        }
      ]
    },
    {
      "cell_type": "code",
      "metadata": {
        "id": "6VQPGdxOD_oR"
      },
      "source": [
        "true_classes = test_generator.classes\n",
        "class_labels = list(test_generator.class_indices.keys())   "
      ],
      "execution_count": null,
      "outputs": []
    },
    {
      "cell_type": "code",
      "metadata": {
        "id": "RD-FZYeREMVw",
        "colab": {
          "base_uri": "https://localhost:8080/",
          "height": 237
        },
        "outputId": "59208bdf-11a8-4fbe-bcac-b576e2b30108"
      },
      "source": [
        "import sklearn.metrics as metrics\n",
        "report = metrics.classification_report(true_classes, predicted_classes, target_names=class_labels)\n",
        "print(report)"
      ],
      "execution_count": null,
      "outputs": [
        {
          "output_type": "stream",
          "text": [
            "              precision    recall  f1-score   support\n",
            "\n",
            "         cbb       0.52      0.44      0.47       155\n",
            "        cbsd       0.76      0.72      0.74       481\n",
            "         cgm       0.70      0.63      0.66       258\n",
            "         cmd       0.86      0.89      0.87       892\n",
            "     healthy       0.59      0.83      0.69       105\n",
            "\n",
            "    accuracy                           0.77      1891\n",
            "   macro avg       0.68      0.70      0.69      1891\n",
            "weighted avg       0.77      0.77      0.77      1891\n",
            "\n"
          ],
          "name": "stdout"
        }
      ]
    },
    {
      "cell_type": "code",
      "metadata": {
        "id": "DW3J4_72lmPn",
        "colab": {
          "base_uri": "https://localhost:8080/",
          "height": 35
        },
        "outputId": "2ad84279-9aeb-4b35-c075-e217b5814d53"
      },
      "source": [
        "STEP_SIZE_TEST=test_generator1.n//test_generator1.batch_size + 1\n",
        "test_generator1.reset()\n",
        "pred=model.predict_generator(test_generator1,\n",
        "                steps=STEP_SIZE_TEST,\n",
        "                verbose=1)"
      ],
      "execution_count": null,
      "outputs": [
        {
          "output_type": "stream",
          "text": [
            "55/55 [==============================] - 2051s 37s/step\n"
          ],
          "name": "stdout"
        }
      ]
    },
    {
      "cell_type": "code",
      "metadata": {
        "id": "9YvZ2fmClxdw"
      },
      "source": [
        "predicted_class_indices=np.argmax(pred,axis=1)"
      ],
      "execution_count": null,
      "outputs": []
    },
    {
      "cell_type": "code",
      "metadata": {
        "id": "WCSrdJF7lzhX",
        "colab": {
          "base_uri": "https://localhost:8080/",
          "height": 35
        },
        "outputId": "87fa62d8-3668-49d5-f8c0-57dd54cee10c"
      },
      "source": [
        "len(predicted_class_indices)"
      ],
      "execution_count": null,
      "outputs": [
        {
          "output_type": "execute_result",
          "data": {
            "text/plain": [
              "3783"
            ]
          },
          "metadata": {
            "tags": []
          },
          "execution_count": 27
        }
      ]
    },
    {
      "cell_type": "code",
      "metadata": {
        "id": "uu2Mubvsl60K",
        "colab": {
          "base_uri": "https://localhost:8080/",
          "height": 35
        },
        "outputId": "96133808-9936-4206-b8dd-5f959c541855"
      },
      "source": [
        "predicted_class_indices[:10]"
      ],
      "execution_count": null,
      "outputs": [
        {
          "output_type": "execute_result",
          "data": {
            "text/plain": [
              "array([1, 1, 3, 2, 1, 3, 3, 3, 3, 2])"
            ]
          },
          "metadata": {
            "tags": []
          },
          "execution_count": 28
        }
      ]
    },
    {
      "cell_type": "code",
      "metadata": {
        "id": "EpscH7MumBl9"
      },
      "source": [
        "import pandas as pd\n",
        "labels = (train_generator.class_indices)\n",
        "labels = dict((v,k) for k,v in labels.items())\n",
        "predictions1 = [labels[k] for k in predicted_class_indices]\n",
        "filenames=test_generator1.filenames\n",
        "results=pd.DataFrame({\"Category\":predictions1,\n",
        "                      \"id\":filenames})"
      ],
      "execution_count": null,
      "outputs": []
    },
    {
      "cell_type": "code",
      "metadata": {
        "id": "dUvAhnJgmE9u",
        "colab": {
          "base_uri": "https://localhost:8080/",
          "height": 206
        },
        "outputId": "28a5df3d-8999-4f57-ec8a-9e9b9425ed22"
      },
      "source": [
        "results.head()"
      ],
      "execution_count": null,
      "outputs": [
        {
          "output_type": "execute_result",
          "data": {
            "text/html": [
              "<div>\n",
              "<style scoped>\n",
              "    .dataframe tbody tr th:only-of-type {\n",
              "        vertical-align: middle;\n",
              "    }\n",
              "\n",
              "    .dataframe tbody tr th {\n",
              "        vertical-align: top;\n",
              "    }\n",
              "\n",
              "    .dataframe thead th {\n",
              "        text-align: right;\n",
              "    }\n",
              "</style>\n",
              "<table border=\"1\" class=\"dataframe\">\n",
              "  <thead>\n",
              "    <tr style=\"text-align: right;\">\n",
              "      <th></th>\n",
              "      <th>Category</th>\n",
              "      <th>id</th>\n",
              "    </tr>\n",
              "  </thead>\n",
              "  <tbody>\n",
              "    <tr>\n",
              "      <th>0</th>\n",
              "      <td>cbsd</td>\n",
              "      <td>test/test-img-0.jpg</td>\n",
              "    </tr>\n",
              "    <tr>\n",
              "      <th>1</th>\n",
              "      <td>cbsd</td>\n",
              "      <td>test/test-img-1.jpg</td>\n",
              "    </tr>\n",
              "    <tr>\n",
              "      <th>2</th>\n",
              "      <td>cmd</td>\n",
              "      <td>test/test-img-10.jpg</td>\n",
              "    </tr>\n",
              "    <tr>\n",
              "      <th>3</th>\n",
              "      <td>cgm</td>\n",
              "      <td>test/test-img-100.jpg</td>\n",
              "    </tr>\n",
              "    <tr>\n",
              "      <th>4</th>\n",
              "      <td>cbsd</td>\n",
              "      <td>test/test-img-1000.jpg</td>\n",
              "    </tr>\n",
              "  </tbody>\n",
              "</table>\n",
              "</div>"
            ],
            "text/plain": [
              "  Category                      id\n",
              "0     cbsd     test/test-img-0.jpg\n",
              "1     cbsd     test/test-img-1.jpg\n",
              "2      cmd    test/test-img-10.jpg\n",
              "3      cgm   test/test-img-100.jpg\n",
              "4     cbsd  test/test-img-1000.jpg"
            ]
          },
          "metadata": {
            "tags": []
          },
          "execution_count": 35
        }
      ]
    },
    {
      "cell_type": "code",
      "metadata": {
        "id": "I1y2yjOXmIuQ",
        "colab": {
          "base_uri": "https://localhost:8080/",
          "height": 127
        },
        "outputId": "264c469d-10dd-4688-d3ae-6b16297930d3"
      },
      "source": [
        "results.Category.value_counts()"
      ],
      "execution_count": null,
      "outputs": [
        {
          "output_type": "execute_result",
          "data": {
            "text/plain": [
              "cmd        1852\n",
              "cbsd        897\n",
              "cgm         484\n",
              "healthy     281\n",
              "cbb         269\n",
              "Name: Category, dtype: int64"
            ]
          },
          "metadata": {
            "tags": []
          },
          "execution_count": 36
        }
      ]
    },
    {
      "cell_type": "code",
      "metadata": {
        "id": "kkJBKKI1meDa"
      },
      "source": [
        "results.loc[:,'id'] = results.id.str.replace('0/','')"
      ],
      "execution_count": null,
      "outputs": []
    },
    {
      "cell_type": "code",
      "metadata": {
        "id": "L33cGGhpmjiE",
        "colab": {
          "base_uri": "https://localhost:8080/",
          "height": 206
        },
        "outputId": "4cd1b65e-a2a2-4208-ad52-597a151e674f"
      },
      "source": [
        "results.head()"
      ],
      "execution_count": null,
      "outputs": [
        {
          "output_type": "execute_result",
          "data": {
            "text/html": [
              "<div>\n",
              "<style scoped>\n",
              "    .dataframe tbody tr th:only-of-type {\n",
              "        vertical-align: middle;\n",
              "    }\n",
              "\n",
              "    .dataframe tbody tr th {\n",
              "        vertical-align: top;\n",
              "    }\n",
              "\n",
              "    .dataframe thead th {\n",
              "        text-align: right;\n",
              "    }\n",
              "</style>\n",
              "<table border=\"1\" class=\"dataframe\">\n",
              "  <thead>\n",
              "    <tr style=\"text-align: right;\">\n",
              "      <th></th>\n",
              "      <th>Category</th>\n",
              "      <th>id</th>\n",
              "    </tr>\n",
              "  </thead>\n",
              "  <tbody>\n",
              "    <tr>\n",
              "      <th>0</th>\n",
              "      <td>cbsd</td>\n",
              "      <td>test/test-img-0.jpg</td>\n",
              "    </tr>\n",
              "    <tr>\n",
              "      <th>1</th>\n",
              "      <td>cbsd</td>\n",
              "      <td>test/test-img-1.jpg</td>\n",
              "    </tr>\n",
              "    <tr>\n",
              "      <th>2</th>\n",
              "      <td>cmd</td>\n",
              "      <td>test/test-img-10.jpg</td>\n",
              "    </tr>\n",
              "    <tr>\n",
              "      <th>3</th>\n",
              "      <td>cgm</td>\n",
              "      <td>test/test-img-100.jpg</td>\n",
              "    </tr>\n",
              "    <tr>\n",
              "      <th>4</th>\n",
              "      <td>cbsd</td>\n",
              "      <td>test/test-img-1000.jpg</td>\n",
              "    </tr>\n",
              "  </tbody>\n",
              "</table>\n",
              "</div>"
            ],
            "text/plain": [
              "  Category                      id\n",
              "0     cbsd     test/test-img-0.jpg\n",
              "1     cbsd     test/test-img-1.jpg\n",
              "2      cmd    test/test-img-10.jpg\n",
              "3      cgm   test/test-img-100.jpg\n",
              "4     cbsd  test/test-img-1000.jpg"
            ]
          },
          "metadata": {
            "tags": []
          },
          "execution_count": 38
        }
      ]
    },
    {
      "cell_type": "code",
      "metadata": {
        "id": "T5yefIfsmlIl"
      },
      "source": [
        "results.to_csv(\"submission.csv\",index=False)"
      ],
      "execution_count": null,
      "outputs": []
    }
  ]
}